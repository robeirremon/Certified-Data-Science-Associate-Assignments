{
 "cells": [
  {
   "cell_type": "markdown",
   "metadata": {},
   "source": [
    "# 1.Grade"
   ]
  },
  {
   "cell_type": "code",
   "execution_count": 45,
   "metadata": {},
   "outputs": [],
   "source": [
    "def grade(my_grade , tot_num):\n",
    "    grade_perc = my_grade * 100 / tot_num\n",
    "    if grade_perc >= 85 :\n",
    "        print(\"Excellent\")\n",
    "    elif grade_perc >= 75 :\n",
    "        print(\"Very Good\")\n",
    "    elif grade_perc >= 65 :\n",
    "        print(\"Good\")\n",
    "    elif grade_perc >= 50 :\n",
    "        print(\"Acceptable\")\n",
    "    else :\n",
    "        print(\"Fail\")"
   ]
  },
  {
   "cell_type": "code",
   "execution_count": 46,
   "metadata": {},
   "outputs": [
    {
     "name": "stdout",
     "output_type": "stream",
     "text": [
      "Excellent\n"
     ]
    }
   ],
   "source": [
    "grade(90,100)"
   ]
  },
  {
   "cell_type": "code",
   "execution_count": 47,
   "metadata": {},
   "outputs": [
    {
     "name": "stdout",
     "output_type": "stream",
     "text": [
      "Excellent\n"
     ]
    }
   ],
   "source": [
    "grade(85,100)"
   ]
  },
  {
   "cell_type": "code",
   "execution_count": 48,
   "metadata": {},
   "outputs": [
    {
     "name": "stdout",
     "output_type": "stream",
     "text": [
      "Excellent\n"
     ]
    }
   ],
   "source": [
    "grade(180,200)"
   ]
  },
  {
   "cell_type": "code",
   "execution_count": 49,
   "metadata": {},
   "outputs": [
    {
     "name": "stdout",
     "output_type": "stream",
     "text": [
      "Very Good\n"
     ]
    }
   ],
   "source": [
    "grade(160,200)    "
   ]
  },
  {
   "cell_type": "code",
   "execution_count": 50,
   "metadata": {},
   "outputs": [
    {
     "name": "stdout",
     "output_type": "stream",
     "text": [
      "Good\n"
     ]
    }
   ],
   "source": [
    "grade(140,200)   "
   ]
  },
  {
   "cell_type": "code",
   "execution_count": 51,
   "metadata": {},
   "outputs": [
    {
     "name": "stdout",
     "output_type": "stream",
     "text": [
      "Acceptable\n"
     ]
    }
   ],
   "source": [
    "grade(120,200)   "
   ]
  },
  {
   "cell_type": "code",
   "execution_count": 52,
   "metadata": {},
   "outputs": [
    {
     "name": "stdout",
     "output_type": "stream",
     "text": [
      "Acceptable\n"
     ]
    }
   ],
   "source": [
    "grade(100,200)     "
   ]
  },
  {
   "cell_type": "code",
   "execution_count": 53,
   "metadata": {},
   "outputs": [
    {
     "name": "stdout",
     "output_type": "stream",
     "text": [
      "Fail\n"
     ]
    }
   ],
   "source": [
    "grade(60,200)   "
   ]
  },
  {
   "cell_type": "markdown",
   "metadata": {},
   "source": [
    "# 2. Is  It Triangle"
   ]
  },
  {
   "cell_type": "code",
   "execution_count": 54,
   "metadata": {},
   "outputs": [],
   "source": [
    "def is_triangle(x,y,z):\n",
    "    if x+y > z and x+z > y and y+z > x :\n",
    "        print(\"It could form a triangle\")        \n",
    "    else :\n",
    "        print(\"It couldn't form a triangle\")"
   ]
  },
  {
   "cell_type": "code",
   "execution_count": 55,
   "metadata": {},
   "outputs": [
    {
     "name": "stdout",
     "output_type": "stream",
     "text": [
      "It could form a triangle\n"
     ]
    }
   ],
   "source": [
    "is_triangle(1,1,1)"
   ]
  },
  {
   "cell_type": "code",
   "execution_count": 56,
   "metadata": {},
   "outputs": [
    {
     "name": "stdout",
     "output_type": "stream",
     "text": [
      "It couldn't form a triangle\n"
     ]
    }
   ],
   "source": [
    "is_triangle(1,2,4)"
   ]
  },
  {
   "cell_type": "code",
   "execution_count": 57,
   "metadata": {},
   "outputs": [
    {
     "name": "stdout",
     "output_type": "stream",
     "text": [
      "It could form a triangle\n"
     ]
    }
   ],
   "source": [
    "is_triangle(1,4,4)"
   ]
  },
  {
   "cell_type": "markdown",
   "metadata": {},
   "source": [
    "# 3. Type of the triangle"
   ]
  },
  {
   "cell_type": "code",
   "execution_count": 63,
   "metadata": {},
   "outputs": [],
   "source": [
    "def type_triangle(x,y,z):\n",
    "    if x+y+z ==180 :\n",
    "        if x==y==z :\n",
    "            print(\"Equilateral triangles \")\n",
    "        elif x==y or y==z or x==z :\n",
    "            print(\"Isosceles triangles\")\n",
    "        else :\n",
    "            print(\"Scalene triangles\")\n",
    "    else :\n",
    "        print(\"sum of the sides of the triangle should be 180\")"
   ]
  },
  {
   "cell_type": "code",
   "execution_count": 64,
   "metadata": {},
   "outputs": [
    {
     "name": "stdout",
     "output_type": "stream",
     "text": [
      "Equilateral triangles \n"
     ]
    }
   ],
   "source": [
    "type_triangle(60,60,60)"
   ]
  },
  {
   "cell_type": "code",
   "execution_count": 65,
   "metadata": {},
   "outputs": [
    {
     "name": "stdout",
     "output_type": "stream",
     "text": [
      "Scalene triangles\n"
     ]
    }
   ],
   "source": [
    "type_triangle(60,70,50)"
   ]
  },
  {
   "cell_type": "code",
   "execution_count": 66,
   "metadata": {},
   "outputs": [
    {
     "name": "stdout",
     "output_type": "stream",
     "text": [
      "sum of the sides of the triangle should be 180\n"
     ]
    }
   ],
   "source": [
    "type_triangle(60,70,70)"
   ]
  },
  {
   "cell_type": "code",
   "execution_count": 67,
   "metadata": {},
   "outputs": [
    {
     "name": "stdout",
     "output_type": "stream",
     "text": [
      "Isosceles triangles\n"
     ]
    }
   ],
   "source": [
    "type_triangle(80,50,50)"
   ]
  },
  {
   "cell_type": "markdown",
   "metadata": {},
   "source": [
    "# 4.class triangle"
   ]
  },
  {
   "cell_type": "code",
   "execution_count": 106,
   "metadata": {},
   "outputs": [],
   "source": [
    "class triangle():\n",
    "    def __init__(self):\n",
    "        pass\n",
    "    def is_triangle(self,x,y,z):\n",
    "        self.x=x\n",
    "        self.y=y\n",
    "        self.z=z\n",
    "        if x+y > z and x+z > y and y+z > x :\n",
    "            print(\"It could form a triangle\")        \n",
    "        else :\n",
    "            print(\"It couldn't form a triangle\")\n",
    "            x,y,z = 1,1,1\n",
    "            print(f\"new values assignmed for the triangle are {x} , {y} , {z}\")\n",
    "            triangle.is_triangle(self,x,y,z)\n",
    "        \n",
    "    def type_triangle(self,x,y,z):\n",
    "        self.x=x\n",
    "        self.y=y\n",
    "        self.z=z\n",
    "        if x+y+z ==180 :\n",
    "            if x==y==z :\n",
    "                print(\"Equilateral triangles \")\n",
    "            elif x==y or y==z or x==z :\n",
    "                print(\"Isosceles triangles\")\n",
    "            else :\n",
    "                print(\"Scalene triangles\")\n",
    "        else :\n",
    "            print(\"sum of the sides of the triangle should be 180\")\n",
    "            \n",
    "        \n",
    "        "
   ]
  },
  {
   "cell_type": "code",
   "execution_count": 107,
   "metadata": {},
   "outputs": [],
   "source": [
    "tr=triangle()"
   ]
  },
  {
   "cell_type": "code",
   "execution_count": 108,
   "metadata": {},
   "outputs": [
    {
     "name": "stdout",
     "output_type": "stream",
     "text": [
      "It couldn't form a triangle\n",
      "new values assignmed for the triangle are 1 , 1 , 1\n",
      "It could form a triangle\n"
     ]
    }
   ],
   "source": [
    "tr.is_triangle(0,4,1)"
   ]
  },
  {
   "cell_type": "code",
   "execution_count": 109,
   "metadata": {},
   "outputs": [
    {
     "name": "stdout",
     "output_type": "stream",
     "text": [
      "Equilateral triangles \n"
     ]
    }
   ],
   "source": [
    "tr.type_triangle(60,60,60)"
   ]
  },
  {
   "cell_type": "code",
   "execution_count": null,
   "metadata": {},
   "outputs": [],
   "source": []
  },
  {
   "cell_type": "code",
   "execution_count": null,
   "metadata": {},
   "outputs": [],
   "source": []
  },
  {
   "cell_type": "markdown",
   "metadata": {},
   "source": [
    "# Reverse Number"
   ]
  },
  {
   "cell_type": "markdown",
   "metadata": {},
   "source": [
    "## argument is already given"
   ]
  },
  {
   "cell_type": "code",
   "execution_count": 8,
   "metadata": {},
   "outputs": [],
   "source": [
    "def reverse(x):\n",
    "    return int(str(int(x))[::-1])    "
   ]
  },
  {
   "cell_type": "code",
   "execution_count": 9,
   "metadata": {},
   "outputs": [
    {
     "data": {
      "text/plain": [
       "423432"
      ]
     },
     "execution_count": 9,
     "metadata": {},
     "output_type": "execute_result"
    }
   ],
   "source": [
    "reverse(234324)"
   ]
  },
  {
   "cell_type": "code",
   "execution_count": 10,
   "metadata": {},
   "outputs": [
    {
     "data": {
      "text/plain": [
       "423432"
      ]
     },
     "execution_count": 10,
     "metadata": {},
     "output_type": "execute_result"
    }
   ],
   "source": [
    "reverse(234324.15)"
   ]
  },
  {
   "cell_type": "markdown",
   "metadata": {},
   "source": [
    "## argument is given by user"
   ]
  },
  {
   "cell_type": "code",
   "execution_count": 33,
   "metadata": {},
   "outputs": [],
   "source": [
    "def reverse():\n",
    "    #return int(float(str(input())[::-1]))\n",
    "    \n",
    "    return int(str(int(float(input())))[::-1])\n"
   ]
  },
  {
   "cell_type": "code",
   "execution_count": 34,
   "metadata": {},
   "outputs": [
    {
     "name": "stdout",
     "output_type": "stream",
     "text": [
      "45456.1564\n"
     ]
    },
    {
     "data": {
      "text/plain": [
       "65454"
      ]
     },
     "execution_count": 34,
     "metadata": {},
     "output_type": "execute_result"
    }
   ],
   "source": [
    "reverse()"
   ]
  },
  {
   "cell_type": "code",
   "execution_count": 35,
   "metadata": {},
   "outputs": [
    {
     "name": "stdout",
     "output_type": "stream",
     "text": [
      "256341\n"
     ]
    },
    {
     "data": {
      "text/plain": [
       "143652"
      ]
     },
     "execution_count": 35,
     "metadata": {},
     "output_type": "execute_result"
    }
   ],
   "source": [
    "reverse()"
   ]
  },
  {
   "cell_type": "code",
   "execution_count": 36,
   "metadata": {},
   "outputs": [
    {
     "name": "stdout",
     "output_type": "stream",
     "text": [
      "463546.144563\n"
     ]
    },
    {
     "data": {
      "text/plain": [
       "645364"
      ]
     },
     "execution_count": 36,
     "metadata": {},
     "output_type": "execute_result"
    }
   ],
   "source": [
    "reverse()"
   ]
  },
  {
   "cell_type": "code",
   "execution_count": null,
   "metadata": {},
   "outputs": [],
   "source": []
  },
  {
   "cell_type": "code",
   "execution_count": null,
   "metadata": {},
   "outputs": [],
   "source": []
  },
  {
   "cell_type": "markdown",
   "metadata": {},
   "source": [
    "# Vowel Counter"
   ]
  },
  {
   "cell_type": "code",
   "execution_count": 37,
   "metadata": {},
   "outputs": [],
   "source": [
    "def vowel_counter(name):\n",
    "    a , i, o , u , e = 0,0,0,0,0\n",
    "    for char in name :\n",
    "        if char == 'a':\n",
    "            a+=1\n",
    "        elif char == \"e\":\n",
    "            e+=1\n",
    "        elif char == \"i\":\n",
    "            i+=1\n",
    "        elif char == \"o\":\n",
    "            o+=1\n",
    "        elif char == \"u\":\n",
    "            u+=1\n",
    "    print(f\"a = {a}\\no = {o}\\ne = {e}\\ni = {i}\\nu = {u}\")"
   ]
  },
  {
   "cell_type": "code",
   "execution_count": 38,
   "metadata": {},
   "outputs": [
    {
     "name": "stdout",
     "output_type": "stream",
     "text": [
      "a = 0\n",
      "o = 2\n",
      "e = 1\n",
      "i = 0\n",
      "u = 0\n"
     ]
    }
   ],
   "source": [
    "vowel_counter(\"hello world\")"
   ]
  },
  {
   "cell_type": "code",
   "execution_count": 44,
   "metadata": {},
   "outputs": [],
   "source": [
    "def vowel(name):\n",
    "    vowels = { 'a':0,'o': 0 ,'i':0 , 'e': 0,'u':0}\n",
    "    for char in name :\n",
    "        for i in vowels.keys() :\n",
    "            if char == i :\n",
    "                vowels[i] += 1\n",
    "    print(vowels.values())"
   ]
  },
  {
   "cell_type": "code",
   "execution_count": 45,
   "metadata": {},
   "outputs": [
    {
     "name": "stdout",
     "output_type": "stream",
     "text": [
      "dict_values([1, 1, 1, 1, 2])\n"
     ]
    }
   ],
   "source": [
    "vowel(\"aeiouu\")"
   ]
  },
  {
   "cell_type": "code",
   "execution_count": null,
   "metadata": {},
   "outputs": [],
   "source": []
  },
  {
   "cell_type": "code",
   "execution_count": null,
   "metadata": {},
   "outputs": [],
   "source": []
  },
  {
   "cell_type": "code",
   "execution_count": null,
   "metadata": {},
   "outputs": [],
   "source": []
  },
  {
   "cell_type": "markdown",
   "metadata": {},
   "source": [
    "# Simple Test Processing"
   ]
  },
  {
   "cell_type": "code",
   "execution_count": 55,
   "metadata": {},
   "outputs": [],
   "source": [
    "import string\n",
    "\n",
    "alphabet = string.ascii_lowercase\n",
    "\n",
    "def string(txt):\n",
    "    txt_alphabet = []\n",
    "    txt = txt.lower()\n",
    "    \n",
    "    txt_alphabet.append([char for char in txt if char in alphabet]) \n",
    "        \n",
    "    print(txt_alphabet[0])    "
   ]
  },
  {
   "cell_type": "code",
   "execution_count": 56,
   "metadata": {
    "scrolled": true
   },
   "outputs": [
    {
     "name": "stdout",
     "output_type": "stream",
     "text": [
      "['s', 'd', 'f', 'n', 'k', 's', 'a', 'j', 'h', 'b', 'f', 'd', 's', 'd', 's', 'f', 's', 'd', 'f']\n"
     ]
    }
   ],
   "source": [
    "string(\"sdfnksajhbfdsDSFSDF??\")"
   ]
  },
  {
   "cell_type": "code",
   "execution_count": 59,
   "metadata": {},
   "outputs": [],
   "source": [
    "def string_fun(st):\n",
    "    string_st =''\n",
    "    \n",
    "    for char in st:\n",
    "        if char == ' ':\n",
    "            string_st += char  \n",
    "        elif char.isalpha():\n",
    "            string_st += char    \n",
    "            \n",
    "    string_st = string_st.lower()\n",
    "    \n",
    "    return string_st.split()"
   ]
  },
  {
   "cell_type": "code",
   "execution_count": 60,
   "metadata": {},
   "outputs": [
    {
     "name": "stdout",
     "output_type": "stream",
     "text": [
      "['dfbnks', 'jhdfgfdsg', 'dsgf', 'd', 'h', 'h', 'h', 'h']\n"
     ]
    }
   ],
   "source": [
    "words = string_fun(\"dfbnks jhdfGFDSG dsgF D?? h h h h \")\n",
    "print(words)"
   ]
  },
  {
   "cell_type": "code",
   "execution_count": null,
   "metadata": {},
   "outputs": [],
   "source": []
  },
  {
   "cell_type": "markdown",
   "metadata": {},
   "source": [
    "## Text Processing with word Count"
   ]
  },
  {
   "cell_type": "code",
   "execution_count": 301,
   "metadata": {},
   "outputs": [],
   "source": [
    "my_dict = {}\n",
    "for word in words :\n",
    "    my_dict[word] =  words.count(word)"
   ]
  },
  {
   "cell_type": "code",
   "execution_count": 302,
   "metadata": {},
   "outputs": [
    {
     "name": "stdout",
     "output_type": "stream",
     "text": [
      "{'dfbnks': 1, 'jhdfgfdsg': 1, 'dsgf': 1, 'd': 1, 'h': 4}\n"
     ]
    }
   ],
   "source": [
    "print(my_dict)"
   ]
  },
  {
   "cell_type": "code",
   "execution_count": 308,
   "metadata": {},
   "outputs": [],
   "source": [
    "my_dict = {word : words.count(word) for word in words}"
   ]
  },
  {
   "cell_type": "code",
   "execution_count": 309,
   "metadata": {},
   "outputs": [
    {
     "data": {
      "text/plain": [
       "{'dfbnks': 1, 'jhdfgfdsg': 1, 'dsgf': 1, 'd': 1, 'h': 4}"
      ]
     },
     "execution_count": 309,
     "metadata": {},
     "output_type": "execute_result"
    }
   ],
   "source": [
    "my_dict"
   ]
  },
  {
   "cell_type": "code",
   "execution_count": null,
   "metadata": {},
   "outputs": [],
   "source": []
  }
 ],
 "metadata": {
  "kernelspec": {
   "display_name": "Python 3",
   "language": "python",
   "name": "python3"
  },
  "language_info": {
   "codemirror_mode": {
    "name": "ipython",
    "version": 3
   },
   "file_extension": ".py",
   "mimetype": "text/x-python",
   "name": "python",
   "nbconvert_exporter": "python",
   "pygments_lexer": "ipython3",
   "version": "3.7.6"
  }
 },
 "nbformat": 4,
 "nbformat_minor": 4
}
