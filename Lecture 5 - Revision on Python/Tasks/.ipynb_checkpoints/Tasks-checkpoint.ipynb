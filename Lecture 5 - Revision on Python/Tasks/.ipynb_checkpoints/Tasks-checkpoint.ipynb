{
 "cells": [
  {
   "cell_type": "markdown",
   "metadata": {},
   "source": [
    "# 1.Grade"
   ]
  },
  {
   "cell_type": "code",
   "execution_count": 45,
   "metadata": {},
   "outputs": [],
   "source": [
    "def grade(my_grade , tot_num):\n",
    "    grade_perc = my_grade * 100 / tot_num\n",
    "    if grade_perc >= 85 :\n",
    "        print(\"Excellent\")\n",
    "    elif grade_perc >= 75 :\n",
    "        print(\"Very Good\")\n",
    "    elif grade_perc >= 65 :\n",
    "        print(\"Good\")\n",
    "    elif grade_perc >= 50 :\n",
    "        print(\"Acceptable\")\n",
    "    else :\n",
    "        print(\"Fail\")"
   ]
  },
  {
   "cell_type": "code",
   "execution_count": 46,
   "metadata": {},
   "outputs": [
    {
     "name": "stdout",
     "output_type": "stream",
     "text": [
      "Excellent\n"
     ]
    }
   ],
   "source": [
    "grade(90,100)"
   ]
  },
  {
   "cell_type": "code",
   "execution_count": 47,
   "metadata": {},
   "outputs": [
    {
     "name": "stdout",
     "output_type": "stream",
     "text": [
      "Excellent\n"
     ]
    }
   ],
   "source": [
    "grade(85,100)"
   ]
  },
  {
   "cell_type": "code",
   "execution_count": 48,
   "metadata": {},
   "outputs": [
    {
     "name": "stdout",
     "output_type": "stream",
     "text": [
      "Excellent\n"
     ]
    }
   ],
   "source": [
    "grade(180,200)"
   ]
  },
  {
   "cell_type": "code",
   "execution_count": 49,
   "metadata": {},
   "outputs": [
    {
     "name": "stdout",
     "output_type": "stream",
     "text": [
      "Very Good\n"
     ]
    }
   ],
   "source": [
    "grade(160,200)    "
   ]
  },
  {
   "cell_type": "code",
   "execution_count": 50,
   "metadata": {},
   "outputs": [
    {
     "name": "stdout",
     "output_type": "stream",
     "text": [
      "Good\n"
     ]
    }
   ],
   "source": [
    "grade(140,200)   "
   ]
  },
  {
   "cell_type": "code",
   "execution_count": 51,
   "metadata": {},
   "outputs": [
    {
     "name": "stdout",
     "output_type": "stream",
     "text": [
      "Acceptable\n"
     ]
    }
   ],
   "source": [
    "grade(120,200)   "
   ]
  },
  {
   "cell_type": "code",
   "execution_count": 52,
   "metadata": {},
   "outputs": [
    {
     "name": "stdout",
     "output_type": "stream",
     "text": [
      "Acceptable\n"
     ]
    }
   ],
   "source": [
    "grade(100,200)     "
   ]
  },
  {
   "cell_type": "code",
   "execution_count": 53,
   "metadata": {},
   "outputs": [
    {
     "name": "stdout",
     "output_type": "stream",
     "text": [
      "Fail\n"
     ]
    }
   ],
   "source": [
    "grade(60,200)   "
   ]
  },
  {
   "cell_type": "markdown",
   "metadata": {},
   "source": [
    "# 2. Is Triangle"
   ]
  },
  {
   "cell_type": "code",
   "execution_count": 54,
   "metadata": {},
   "outputs": [],
   "source": [
    "def is_triangle(x,y,z):\n",
    "    if x+y > z and x+z > y and y+z > x :\n",
    "        print(\"It could form a triangle\")        \n",
    "    else :\n",
    "        print(\"It couldn't form a triangle\")"
   ]
  },
  {
   "cell_type": "code",
   "execution_count": 55,
   "metadata": {},
   "outputs": [
    {
     "name": "stdout",
     "output_type": "stream",
     "text": [
      "It could form a triangle\n"
     ]
    }
   ],
   "source": [
    "is_triangle(1,1,1)"
   ]
  },
  {
   "cell_type": "code",
   "execution_count": 56,
   "metadata": {},
   "outputs": [
    {
     "name": "stdout",
     "output_type": "stream",
     "text": [
      "It couldn't form a triangle\n"
     ]
    }
   ],
   "source": [
    "is_triangle(1,2,4)"
   ]
  },
  {
   "cell_type": "code",
   "execution_count": 57,
   "metadata": {},
   "outputs": [
    {
     "name": "stdout",
     "output_type": "stream",
     "text": [
      "It could form a triangle\n"
     ]
    }
   ],
   "source": [
    "is_triangle(1,4,4)"
   ]
  },
  {
   "cell_type": "markdown",
   "metadata": {},
   "source": [
    "# 3. Type of the triangle"
   ]
  },
  {
   "cell_type": "code",
   "execution_count": 63,
   "metadata": {},
   "outputs": [],
   "source": [
    "def type_triangle(x,y,z):\n",
    "    if x+y+z ==180 :\n",
    "        if x==y==z :\n",
    "            print(\"Equilateral triangles \")\n",
    "        elif x==y or y==z or x==z :\n",
    "            print(\"Isosceles triangles\")\n",
    "        else :\n",
    "            print(\"Scalene triangles\")\n",
    "    else :\n",
    "        print(\"sum of the sides of the triangle should be 180\")"
   ]
  },
  {
   "cell_type": "code",
   "execution_count": 64,
   "metadata": {},
   "outputs": [
    {
     "name": "stdout",
     "output_type": "stream",
     "text": [
      "Equilateral triangles \n"
     ]
    }
   ],
   "source": [
    "type_triangle(60,60,60)"
   ]
  },
  {
   "cell_type": "code",
   "execution_count": 65,
   "metadata": {},
   "outputs": [
    {
     "name": "stdout",
     "output_type": "stream",
     "text": [
      "Scalene triangles\n"
     ]
    }
   ],
   "source": [
    "type_triangle(60,70,50)"
   ]
  },
  {
   "cell_type": "code",
   "execution_count": 66,
   "metadata": {},
   "outputs": [
    {
     "name": "stdout",
     "output_type": "stream",
     "text": [
      "sum of the sides of the triangle should be 180\n"
     ]
    }
   ],
   "source": [
    "type_triangle(60,70,70)"
   ]
  },
  {
   "cell_type": "code",
   "execution_count": 67,
   "metadata": {},
   "outputs": [
    {
     "name": "stdout",
     "output_type": "stream",
     "text": [
      "Isosceles triangles\n"
     ]
    }
   ],
   "source": [
    "type_triangle(80,50,50)"
   ]
  },
  {
   "cell_type": "markdown",
   "metadata": {},
   "source": [
    "# 4.class triangle"
   ]
  },
  {
   "cell_type": "code",
   "execution_count": 106,
   "metadata": {},
   "outputs": [],
   "source": [
    "class triangle():\n",
    "    def __init__(self):\n",
    "        pass\n",
    "    def is_triangle(self,x,y,z):\n",
    "        self.x=x\n",
    "        self.y=y\n",
    "        self.z=z\n",
    "        if x+y > z and x+z > y and y+z > x :\n",
    "            print(\"It could form a triangle\")        \n",
    "        else :\n",
    "            print(\"It couldn't form a triangle\")\n",
    "            x,y,z = 1,1,1\n",
    "            print(f\"new values assignmed for the triangle are {x} , {y} , {z}\")\n",
    "            triangle.is_triangle(self,x,y,z)\n",
    "        \n",
    "    def type_triangle(self,x,y,z):\n",
    "        self.x=x\n",
    "        self.y=y\n",
    "        self.z=z\n",
    "        if x+y+z ==180 :\n",
    "            if x==y==z :\n",
    "                print(\"Equilateral triangles \")\n",
    "            elif x==y or y==z or x==z :\n",
    "                print(\"Isosceles triangles\")\n",
    "            else :\n",
    "                print(\"Scalene triangles\")\n",
    "        else :\n",
    "            print(\"sum of the sides of the triangle should be 180\")\n",
    "            \n",
    "        \n",
    "        "
   ]
  },
  {
   "cell_type": "code",
   "execution_count": 107,
   "metadata": {},
   "outputs": [],
   "source": [
    "tr=triangle()"
   ]
  },
  {
   "cell_type": "code",
   "execution_count": 108,
   "metadata": {},
   "outputs": [
    {
     "name": "stdout",
     "output_type": "stream",
     "text": [
      "It couldn't form a triangle\n",
      "new values assignmed for the triangle are 1 , 1 , 1\n",
      "It could form a triangle\n"
     ]
    }
   ],
   "source": [
    "tr.is_triangle(0,4,1)"
   ]
  },
  {
   "cell_type": "code",
   "execution_count": 109,
   "metadata": {},
   "outputs": [
    {
     "name": "stdout",
     "output_type": "stream",
     "text": [
      "Equilateral triangles \n"
     ]
    }
   ],
   "source": [
    "tr.type_triangle(60,60,60)"
   ]
  },
  {
   "cell_type": "code",
   "execution_count": null,
   "metadata": {},
   "outputs": [],
   "source": []
  },
  {
   "cell_type": "code",
   "execution_count": 321,
   "metadata": {},
   "outputs": [],
   "source": [
    "def reverse():\n",
    "    #return int(str(int(x))[::-1])\n",
    "    return int(float(str(input())[::-1]))\n",
    "    "
   ]
  },
  {
   "cell_type": "code",
   "execution_count": 315,
   "metadata": {},
   "outputs": [
    {
     "ename": "TypeError",
     "evalue": "reverse() takes 0 positional arguments but 1 was given",
     "output_type": "error",
     "traceback": [
      "\u001b[1;31m---------------------------------------------------------------------------\u001b[0m",
      "\u001b[1;31mTypeError\u001b[0m                                 Traceback (most recent call last)",
      "\u001b[1;32m<ipython-input-315-b0d49c1c0805>\u001b[0m in \u001b[0;36m<module>\u001b[1;34m\u001b[0m\n\u001b[1;32m----> 1\u001b[1;33m \u001b[0mreverse\u001b[0m\u001b[1;33m(\u001b[0m\u001b[1;36m234324\u001b[0m\u001b[1;33m)\u001b[0m\u001b[1;33m\u001b[0m\u001b[1;33m\u001b[0m\u001b[0m\n\u001b[0m",
      "\u001b[1;31mTypeError\u001b[0m: reverse() takes 0 positional arguments but 1 was given"
     ]
    }
   ],
   "source": [
    "reverse(234324)"
   ]
  },
  {
   "cell_type": "code",
   "execution_count": 177,
   "metadata": {},
   "outputs": [
    {
     "data": {
      "text/plain": [
       "423432"
      ]
     },
     "execution_count": 177,
     "metadata": {},
     "output_type": "execute_result"
    }
   ],
   "source": [
    "reverse(234324.15)"
   ]
  },
  {
   "cell_type": "code",
   "execution_count": 323,
   "metadata": {},
   "outputs": [
    {
     "name": "stdout",
     "output_type": "stream",
     "text": [
      "5635.1531\n"
     ]
    },
    {
     "data": {
      "text/plain": [
       "1351"
      ]
     },
     "execution_count": 323,
     "metadata": {},
     "output_type": "execute_result"
    }
   ],
   "source": [
    "reverse()"
   ]
  },
  {
   "cell_type": "code",
   "execution_count": 200,
   "metadata": {},
   "outputs": [],
   "source": [
    "def vowel_counter(name):\n",
    "    a , i, o , u , e = 0,0,0,0,0\n",
    "    for char in name :\n",
    "        if char == 'a':\n",
    "            a+=1\n",
    "        elif char == \"e\":\n",
    "            e+=1\n",
    "        elif char == \"i\":\n",
    "            i+=1\n",
    "        elif char == \"o\":\n",
    "            o+=1\n",
    "        elif char == \"u\":\n",
    "            u+=1\n",
    "    print(f\"a = {a}\\no = {o}\\ne = {e}\\ni = {i}\\nu = {u}\")"
   ]
  },
  {
   "cell_type": "code",
   "execution_count": 201,
   "metadata": {},
   "outputs": [
    {
     "name": "stdout",
     "output_type": "stream",
     "text": [
      "a = 0\n",
      "o = 2\n",
      "e = 1\n",
      "i = 0\n",
      "u = 0\n"
     ]
    }
   ],
   "source": [
    "vowel_counter(\"hello world\")"
   ]
  },
  {
   "cell_type": "code",
   "execution_count": 212,
   "metadata": {},
   "outputs": [],
   "source": [
    "def vowel(name):\n",
    "    vowels = { 'a':0,'o': 0 ,'i':0 , 'e': 0,'u':0}\n",
    "    for char in name :\n",
    "        if char in name :\n",
    "            vowels[char] = 1\n",
    "    print(vowels.values())"
   ]
  },
  {
   "cell_type": "code",
   "execution_count": 213,
   "metadata": {},
   "outputs": [
    {
     "name": "stdout",
     "output_type": "stream",
     "text": [
      "dict_values([0, 1, 0, 1, 0, 1, 1, 1, 1, 1, 1])\n"
     ]
    }
   ],
   "source": [
    "vowel(\"hello world\")"
   ]
  },
  {
   "cell_type": "code",
   "execution_count": 257,
   "metadata": {},
   "outputs": [],
   "source": [
    "import string\n",
    "\n",
    "alphabet = string.ascii_lowercase\n",
    "\n",
    "def string(txt):\n",
    "    txt_alphabet = []\n",
    "    txt=txt.lower()\n",
    "    for char in txt :\n",
    "        if char in alphabet :\n",
    "            txt_alphabet.append(char)\n",
    "    \n",
    "            \n",
    "    print(txt_alphabet)\n",
    "            \n",
    "    "
   ]
  },
  {
   "cell_type": "code",
   "execution_count": 258,
   "metadata": {},
   "outputs": [
    {
     "name": "stdout",
     "output_type": "stream",
     "text": [
      "['s', 'd', 'a', 'b', 'd', 'f', 's', 's', 'd', 'a', 'f', 'a', 'f', 'd', 's', 'd', 'f', 'g', 'd', 's', 'f', 'f']\n"
     ]
    }
   ],
   "source": [
    "string('sdabd fs??SDAFa fds   DFGDSF\"f .,?!?')"
   ]
  },
  {
   "cell_type": "code",
   "execution_count": 267,
   "metadata": {},
   "outputs": [],
   "source": [
    "import string\n",
    "\n",
    "alphabet = string.ascii_lowercase\n",
    "\n",
    "def string(txt):\n",
    "    txt_alphabet = []\n",
    "    txt=txt.lower()\n",
    "    txt_alphabet.append([char for char in txt if char in alphabet]) \n",
    "         \n",
    "            \n",
    "    print(txt_alphabet[0])\n",
    "            \n",
    "    "
   ]
  },
  {
   "cell_type": "code",
   "execution_count": 268,
   "metadata": {},
   "outputs": [
    {
     "name": "stdout",
     "output_type": "stream",
     "text": [
      "['s', 'd', 'f', 'n', 'k', 's', 'a', 'j', 'h', 'b', 'f', 'd', 's', 'd', 's', 'f', 's', 'd', 'f']\n"
     ]
    }
   ],
   "source": [
    "string(\"sdfnksajhbfdsDSFSDF??\")"
   ]
  },
  {
   "cell_type": "code",
   "execution_count": 296,
   "metadata": {},
   "outputs": [],
   "source": [
    "def string_fun(st):\n",
    "    string_str =''\n",
    "    for char in st:\n",
    "        if char==' ':\n",
    "            string_str+=char\n",
    "        elif char.isalpha():\n",
    "            string_str+=char\n",
    "        string_str=string_str.lower()\n",
    "    return string_str.split()"
   ]
  },
  {
   "cell_type": "code",
   "execution_count": 300,
   "metadata": {},
   "outputs": [
    {
     "name": "stdout",
     "output_type": "stream",
     "text": [
      "['dfbnks', 'jhdfgfdsg', 'dsgf', 'd', 'h', 'h', 'h', 'h']\n"
     ]
    }
   ],
   "source": [
    "words = string_fun(\"dfbnks jhdfGFDSG dsgF D?? h h h h \")\n",
    "print(words)"
   ]
  },
  {
   "cell_type": "code",
   "execution_count": 301,
   "metadata": {},
   "outputs": [],
   "source": [
    "my_dict = {}\n",
    "for word in words :\n",
    "    my_dict[word] =  words.count(word)"
   ]
  },
  {
   "cell_type": "code",
   "execution_count": 302,
   "metadata": {},
   "outputs": [
    {
     "name": "stdout",
     "output_type": "stream",
     "text": [
      "{'dfbnks': 1, 'jhdfgfdsg': 1, 'dsgf': 1, 'd': 1, 'h': 4}\n"
     ]
    }
   ],
   "source": [
    "print(my_dict)"
   ]
  },
  {
   "cell_type": "code",
   "execution_count": 308,
   "metadata": {},
   "outputs": [],
   "source": [
    "my_dict = {word : words.count(word) for word in words}"
   ]
  },
  {
   "cell_type": "code",
   "execution_count": 309,
   "metadata": {},
   "outputs": [
    {
     "data": {
      "text/plain": [
       "{'dfbnks': 1, 'jhdfgfdsg': 1, 'dsgf': 1, 'd': 1, 'h': 4}"
      ]
     },
     "execution_count": 309,
     "metadata": {},
     "output_type": "execute_result"
    }
   ],
   "source": [
    "my_dict"
   ]
  },
  {
   "cell_type": "code",
   "execution_count": null,
   "metadata": {},
   "outputs": [],
   "source": []
  }
 ],
 "metadata": {
  "kernelspec": {
   "display_name": "Python 3",
   "language": "python",
   "name": "python3"
  },
  "language_info": {
   "codemirror_mode": {
    "name": "ipython",
    "version": 3
   },
   "file_extension": ".py",
   "mimetype": "text/x-python",
   "name": "python",
   "nbconvert_exporter": "python",
   "pygments_lexer": "ipython3",
   "version": "3.7.6"
  }
 },
 "nbformat": 4,
 "nbformat_minor": 4
}
