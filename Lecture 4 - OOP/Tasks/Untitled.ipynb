{
 "cells": [
  {
   "cell_type": "code",
   "execution_count": 196,
   "metadata": {},
   "outputs": [],
   "source": [
    "class person :\n",
    "    \n",
    "    def __init__(self , name , age) : \n",
    "        self.__name = name\n",
    "        self.age = age\n",
    "    \n",
    "    def is_old(self):\n",
    "        if self.age > 60 :\n",
    "            print(self.__name + \" is old \")\n",
    "        else :\n",
    "            print(self.__name + \" is not old.\")\n",
    "    \n",
    "    #getter\n",
    "    def get_name(self):\n",
    "        print(\"name is \" + self.__name)\n",
    "        print(\"name is\",self.__name)\n",
    "        print(f'my name is {self.__name}')\n",
    "        \n",
    "    #setter\n",
    "    def set_name(self,new_name):\n",
    "        self.__name = new_name        "
   ]
  },
  {
   "cell_type": "code",
   "execution_count": 197,
   "metadata": {},
   "outputs": [],
   "source": [
    "first=person('Robeir',24)"
   ]
  },
  {
   "cell_type": "code",
   "execution_count": 198,
   "metadata": {},
   "outputs": [],
   "source": [
    "second=person('Remon',64)"
   ]
  },
  {
   "cell_type": "code",
   "execution_count": 199,
   "metadata": {},
   "outputs": [
    {
     "data": {
      "text/plain": [
       "'Robeir'"
      ]
     },
     "execution_count": 199,
     "metadata": {},
     "output_type": "execute_result"
    }
   ],
   "source": [
    "#get from outside\n",
    "first._person__name"
   ]
  },
  {
   "cell_type": "code",
   "execution_count": 200,
   "metadata": {},
   "outputs": [
    {
     "name": "stdout",
     "output_type": "stream",
     "text": [
      "name is Remon\n",
      "name is Remon\n",
      "my name is Remon\n"
     ]
    }
   ],
   "source": [
    "#get using getter\n",
    "second.get_name()"
   ]
  },
  {
   "cell_type": "code",
   "execution_count": 201,
   "metadata": {},
   "outputs": [
    {
     "data": {
      "text/plain": [
       "24"
      ]
     },
     "execution_count": 201,
     "metadata": {},
     "output_type": "execute_result"
    }
   ],
   "source": [
    "first.age"
   ]
  },
  {
   "cell_type": "code",
   "execution_count": 202,
   "metadata": {},
   "outputs": [
    {
     "data": {
      "text/plain": [
       "64"
      ]
     },
     "execution_count": 202,
     "metadata": {},
     "output_type": "execute_result"
    }
   ],
   "source": [
    "second.age"
   ]
  },
  {
   "cell_type": "code",
   "execution_count": 203,
   "metadata": {},
   "outputs": [
    {
     "name": "stdout",
     "output_type": "stream",
     "text": [
      "Robeir is not old.\n"
     ]
    }
   ],
   "source": [
    "first.is_old()"
   ]
  },
  {
   "cell_type": "code",
   "execution_count": 204,
   "metadata": {},
   "outputs": [
    {
     "name": "stdout",
     "output_type": "stream",
     "text": [
      "Remon is old \n"
     ]
    }
   ],
   "source": [
    "second.is_old()"
   ]
  },
  {
   "cell_type": "code",
   "execution_count": 205,
   "metadata": {},
   "outputs": [
    {
     "name": "stdout",
     "output_type": "stream",
     "text": [
      "name is NotRobeir\n",
      "name is NotRobeir\n",
      "my name is NotRobeir\n"
     ]
    }
   ],
   "source": [
    "first.set_name(\"NotRobeir\")\n",
    "first.get_name()"
   ]
  },
  {
   "cell_type": "code",
   "execution_count": null,
   "metadata": {},
   "outputs": [],
   "source": []
  }
 ],
 "metadata": {
  "kernelspec": {
   "display_name": "Python 3",
   "language": "python",
   "name": "python3"
  },
  "language_info": {
   "codemirror_mode": {
    "name": "ipython",
    "version": 3
   },
   "file_extension": ".py",
   "mimetype": "text/x-python",
   "name": "python",
   "nbconvert_exporter": "python",
   "pygments_lexer": "ipython3",
   "version": "3.7.6"
  }
 },
 "nbformat": 4,
 "nbformat_minor": 4
}
