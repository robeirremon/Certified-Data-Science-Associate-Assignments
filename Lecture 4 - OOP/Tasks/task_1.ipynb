{
 "cells": [
  {
   "cell_type": "code",
   "execution_count": 46,
   "metadata": {},
   "outputs": [],
   "source": [
    "class person:\n",
    "    def __init__(self,name,age):\n",
    "        self.name = name\n",
    "        self.age = age\n",
    "        print(f'name of person is {self.name} and his age is {self.age}')"
   ]
  },
  {
   "cell_type": "code",
   "execution_count": 47,
   "metadata": {},
   "outputs": [],
   "source": [
    "class employee(person):\n",
    "    def __init__(self,name,age,salary):\n",
    "        person.__init__(self,name,age)\n",
    "        self.salary = salary\n",
    "        print(f'salary is : {self.salary}')"
   ]
  },
  {
   "cell_type": "code",
   "execution_count": 48,
   "metadata": {},
   "outputs": [],
   "source": [
    "class manager(employee):\n",
    "    def __init__(self,name,age,salary,department_code):\n",
    "        employee.__init__(self,name,age,salary)\n",
    "        self.department_code = department_code\n",
    "        print(f'department code is : {self.department_code}')"
   ]
  },
  {
   "cell_type": "code",
   "execution_count": 49,
   "metadata": {},
   "outputs": [
    {
     "name": "stdout",
     "output_type": "stream",
     "text": [
      "name of person is robeir and his age is 24\n"
     ]
    }
   ],
   "source": [
    "robeir=person(\"robeir\",24)"
   ]
  },
  {
   "cell_type": "code",
   "execution_count": 50,
   "metadata": {},
   "outputs": [
    {
     "name": "stdout",
     "output_type": "stream",
     "text": [
      "name of person is remon and his age is 25\n",
      "salary is : 5000\n"
     ]
    }
   ],
   "source": [
    "remon=employee(\"remon\",25,5000)"
   ]
  },
  {
   "cell_type": "code",
   "execution_count": 51,
   "metadata": {},
   "outputs": [
    {
     "name": "stdout",
     "output_type": "stream",
     "text": [
      "name of person is farid and his age is 26\n",
      "salary is : 6000\n",
      "department code is : 13246\n"
     ]
    }
   ],
   "source": [
    "farid=manager(\"farid\",26,6000,13246)"
   ]
  },
  {
   "cell_type": "code",
   "execution_count": null,
   "metadata": {},
   "outputs": [],
   "source": []
  }
 ],
 "metadata": {
  "kernelspec": {
   "display_name": "Python 3",
   "language": "python",
   "name": "python3"
  },
  "language_info": {
   "codemirror_mode": {
    "name": "ipython",
    "version": 3
   },
   "file_extension": ".py",
   "mimetype": "text/x-python",
   "name": "python",
   "nbconvert_exporter": "python",
   "pygments_lexer": "ipython3",
   "version": "3.7.6"
  }
 },
 "nbformat": 4,
 "nbformat_minor": 4
}
