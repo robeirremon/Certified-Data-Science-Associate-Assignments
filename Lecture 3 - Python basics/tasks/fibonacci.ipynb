{
 "cells": [
  {
   "cell_type": "code",
   "execution_count": null,
   "metadata": {},
   "outputs": [],
   "source": [
    "num = int(input())\n",
    "\n",
    "def fibonacci(n):\n",
    "\n",
    "    #n1,n2 = 0,1\n",
    "    my_list=[0,1]\n",
    "    counter=0\n",
    "    if n<=0:\n",
    "        print(\"please enter positive number\")\n",
    "    elif n ==1:\n",
    "        print(my_list[0])\n",
    "    else:\n",
    "        for i in range(2,n):\n",
    "            my_list.append(my_list[i-1]+my_list[i-2])\n",
    "        print(my_list)\n",
    "        '''\n",
    "        while counter <n:\n",
    "            print(n1)\n",
    "            n_temp = n1 + n2\n",
    "            #update\n",
    "            n1=n2\n",
    "            n2=n_temp\n",
    "            counter+=1\n",
    "        '''\n",
    "\n",
    "fibonacci(num)"
   ]
  },
  {
   "cell_type": "code",
   "execution_count": null,
   "metadata": {},
   "outputs": [],
   "source": []
  }
 ],
 "metadata": {
  "kernelspec": {
   "display_name": "Python 3",
   "language": "python",
   "name": "python3"
  },
  "language_info": {
   "codemirror_mode": {
    "name": "ipython",
    "version": 3
   },
   "file_extension": ".py",
   "mimetype": "text/x-python",
   "name": "python",
   "nbconvert_exporter": "python",
   "pygments_lexer": "ipython3",
   "version": "3.7.6"
  }
 },
 "nbformat": 4,
 "nbformat_minor": 4
}
