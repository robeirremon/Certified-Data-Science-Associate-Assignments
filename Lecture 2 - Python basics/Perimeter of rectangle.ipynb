{
 "cells": [
  {
   "cell_type": "code",
   "execution_count": 9,
   "metadata": {},
   "outputs": [
    {
     "name": "stdout",
     "output_type": "stream",
     "text": [
      "Enter the length of the first side of the rectangle in cm : 4 \n",
      "Enter the length of the second side of the rectangle in cm : 5\n"
     ]
    }
   ],
   "source": [
    "x = int(input(\"Enter the length of the first side of the rectangle in cm : \"))\n",
    "y = int(input(\"Enter the length of the second side of the rectangle in cm : \"))"
   ]
  },
  {
   "cell_type": "code",
   "execution_count": 10,
   "metadata": {},
   "outputs": [
    {
     "name": "stdout",
     "output_type": "stream",
     "text": [
      "perimeter of the rectangle equal 18 cm^2 \n"
     ]
    }
   ],
   "source": [
    "print(f'perimeter of the rectangle equal {2 * (x+y)} cm^2 ')"
   ]
  }
 ],
 "metadata": {
  "kernelspec": {
   "display_name": "Python 3",
   "language": "python",
   "name": "python3"
  },
  "language_info": {
   "codemirror_mode": {
    "name": "ipython",
    "version": 3
   },
   "file_extension": ".py",
   "mimetype": "text/x-python",
   "name": "python",
   "nbconvert_exporter": "python",
   "pygments_lexer": "ipython3",
   "version": "3.7.6"
  }
 },
 "nbformat": 4,
 "nbformat_minor": 4
}
