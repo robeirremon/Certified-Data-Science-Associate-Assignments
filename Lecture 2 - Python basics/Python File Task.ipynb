{
 "cells": [
  {
   "cell_type": "code",
   "execution_count": 119,
   "metadata": {},
   "outputs": [],
   "source": [
    "with open('test.txt','w') as file :\n",
    "    file.write(5*'hello world\\n')\n",
    "    \n",
    "    \n",
    "# file=open('file.txt','w')\n",
    "# file.write(5*'hello world\\n')\n",
    "# file.close()"
   ]
  },
  {
   "cell_type": "code",
   "execution_count": 120,
   "metadata": {},
   "outputs": [],
   "source": [
    "file = open('test.txt','r')\n",
    "file_temp = file.read()\n",
    "file.close()\n",
    "\n",
    "file = open('test.txt','w')\n",
    "file.write(file_temp.upper())\n",
    "file.close()"
   ]
  },
  {
   "cell_type": "code",
   "execution_count": 121,
   "metadata": {},
   "outputs": [],
   "source": [
    "file = open('test.txt','r')\n",
    "f = file.readlines()\n",
    "f[2]=f[2].capitalize()\n",
    "file.close()\n",
    "\n",
    "file = open('test.txt','w')\n",
    "file.writelines(f)\n",
    "file.close()"
   ]
  },
  {
   "cell_type": "code",
   "execution_count": null,
   "metadata": {},
   "outputs": [],
   "source": [
    "with open('test.txt','w') as file :\n",
    "    file.append(\"\")"
   ]
  },
  {
   "cell_type": "code",
   "execution_count": null,
   "metadata": {},
   "outputs": [],
   "source": []
  },
  {
   "cell_type": "code",
   "execution_count": null,
   "metadata": {},
   "outputs": [],
   "source": []
  },
  {
   "cell_type": "code",
   "execution_count": null,
   "metadata": {},
   "outputs": [],
   "source": []
  },
  {
   "cell_type": "code",
   "execution_count": null,
   "metadata": {},
   "outputs": [],
   "source": []
  }
 ],
 "metadata": {
  "kernelspec": {
   "display_name": "Python 3",
   "language": "python",
   "name": "python3"
  },
  "language_info": {
   "codemirror_mode": {
    "name": "ipython",
    "version": 3
   },
   "file_extension": ".py",
   "mimetype": "text/x-python",
   "name": "python",
   "nbconvert_exporter": "python",
   "pygments_lexer": "ipython3",
   "version": "3.7.6"
  }
 },
 "nbformat": 4,
 "nbformat_minor": 4
}
